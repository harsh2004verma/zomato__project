{
 "cells": [
  {
   "cell_type": "markdown",
   "id": "4cdccf62-0e17-46ae-859d-cd1f62229e87",
   "metadata": {},
   "source": [
    "# zomato data analysis project"
   ]
  },
  {
   "cell_type": "markdown",
   "id": "29bf0532-d77d-4ed6-bc57-eae33a9cd555",
   "metadata": {},
   "source": [
    "# importing libraries"
   ]
  },
  {
   "cell_type": "code",
   "execution_count": 1,
   "id": "27900f1f-ebf2-42d4-ac5b-ec412b164e3b",
   "metadata": {},
   "outputs": [],
   "source": [
    "import pandas as pd\n",
    "import numpy as np\n",
    "import matplotlib.pyplot as plt\n",
    "import seaborn as sns"
   ]
  },
  {
   "cell_type": "markdown",
   "id": "8db8da13-35ad-47b4-96c3-93d0d33cd6e3",
   "metadata": {},
   "source": [
    "# create the data frame"
   ]
  },
  {
   "cell_type": "code",
   "execution_count": 2,
   "id": "21f5b7da-40cf-4400-ade8-bdbeb0e8915c",
   "metadata": {},
   "outputs": [],
   "source": [
    "df = pd.read_csv(\"Zomato data .csv\")"
   ]
  },
  {
   "cell_type": "code",
   "execution_count": 3,
   "id": "7f68c8f5-c940-4a7f-949a-0a2c4c448685",
   "metadata": {},
   "outputs": [
    {
     "data": {
      "text/html": [
       "<div>\n",
       "<style scoped>\n",
       "    .dataframe tbody tr th:only-of-type {\n",
       "        vertical-align: middle;\n",
       "    }\n",
       "\n",
       "    .dataframe tbody tr th {\n",
       "        vertical-align: top;\n",
       "    }\n",
       "\n",
       "    .dataframe thead th {\n",
       "        text-align: right;\n",
       "    }\n",
       "</style>\n",
       "<table border=\"1\" class=\"dataframe\">\n",
       "  <thead>\n",
       "    <tr style=\"text-align: right;\">\n",
       "      <th></th>\n",
       "      <th>name</th>\n",
       "      <th>online_order</th>\n",
       "      <th>book_table</th>\n",
       "      <th>rate</th>\n",
       "      <th>votes</th>\n",
       "      <th>approx_cost(for two people)</th>\n",
       "      <th>listed_in(type)</th>\n",
       "    </tr>\n",
       "  </thead>\n",
       "  <tbody>\n",
       "    <tr>\n",
       "      <th>0</th>\n",
       "      <td>Jalsa</td>\n",
       "      <td>Yes</td>\n",
       "      <td>Yes</td>\n",
       "      <td>4.1/5</td>\n",
       "      <td>775</td>\n",
       "      <td>800</td>\n",
       "      <td>Buffet</td>\n",
       "    </tr>\n",
       "    <tr>\n",
       "      <th>1</th>\n",
       "      <td>Spice Elephant</td>\n",
       "      <td>Yes</td>\n",
       "      <td>No</td>\n",
       "      <td>4.1/5</td>\n",
       "      <td>787</td>\n",
       "      <td>800</td>\n",
       "      <td>Buffet</td>\n",
       "    </tr>\n",
       "    <tr>\n",
       "      <th>2</th>\n",
       "      <td>San Churro Cafe</td>\n",
       "      <td>Yes</td>\n",
       "      <td>No</td>\n",
       "      <td>3.8/5</td>\n",
       "      <td>918</td>\n",
       "      <td>800</td>\n",
       "      <td>Buffet</td>\n",
       "    </tr>\n",
       "    <tr>\n",
       "      <th>3</th>\n",
       "      <td>Addhuri Udupi Bhojana</td>\n",
       "      <td>No</td>\n",
       "      <td>No</td>\n",
       "      <td>3.7/5</td>\n",
       "      <td>88</td>\n",
       "      <td>300</td>\n",
       "      <td>Buffet</td>\n",
       "    </tr>\n",
       "    <tr>\n",
       "      <th>4</th>\n",
       "      <td>Grand Village</td>\n",
       "      <td>No</td>\n",
       "      <td>No</td>\n",
       "      <td>3.8/5</td>\n",
       "      <td>166</td>\n",
       "      <td>600</td>\n",
       "      <td>Buffet</td>\n",
       "    </tr>\n",
       "  </tbody>\n",
       "</table>\n",
       "</div>"
      ],
      "text/plain": [
       "                    name online_order book_table   rate  votes  \\\n",
       "0                  Jalsa          Yes        Yes  4.1/5    775   \n",
       "1         Spice Elephant          Yes         No  4.1/5    787   \n",
       "2        San Churro Cafe          Yes         No  3.8/5    918   \n",
       "3  Addhuri Udupi Bhojana           No         No  3.7/5     88   \n",
       "4          Grand Village           No         No  3.8/5    166   \n",
       "\n",
       "   approx_cost(for two people) listed_in(type)  \n",
       "0                          800          Buffet  \n",
       "1                          800          Buffet  \n",
       "2                          800          Buffet  \n",
       "3                          300          Buffet  \n",
       "4                          600          Buffet  "
      ]
     },
     "execution_count": 3,
     "metadata": {},
     "output_type": "execute_result"
    }
   ],
   "source": [
    "df.head()"
   ]
  },
  {
   "cell_type": "markdown",
   "id": "ee1eab3c-1ae8-4901-9b16-c849f1af93ce",
   "metadata": {},
   "source": [
    "# Convert the data type of column - rate"
   ]
  },
  {
   "cell_type": "code",
   "execution_count": 6,
   "id": "2ce00511-efd4-47c1-b0b9-3f6897110928",
   "metadata": {},
   "outputs": [
    {
     "data": {
      "text/html": [
       "<div>\n",
       "<style scoped>\n",
       "    .dataframe tbody tr th:only-of-type {\n",
       "        vertical-align: middle;\n",
       "    }\n",
       "\n",
       "    .dataframe tbody tr th {\n",
       "        vertical-align: top;\n",
       "    }\n",
       "\n",
       "    .dataframe thead th {\n",
       "        text-align: right;\n",
       "    }\n",
       "</style>\n",
       "<table border=\"1\" class=\"dataframe\">\n",
       "  <thead>\n",
       "    <tr style=\"text-align: right;\">\n",
       "      <th></th>\n",
       "      <th>name</th>\n",
       "      <th>online_order</th>\n",
       "      <th>book_table</th>\n",
       "      <th>rate</th>\n",
       "      <th>votes</th>\n",
       "      <th>approx_cost(for two people)</th>\n",
       "      <th>listed_in(type)</th>\n",
       "    </tr>\n",
       "  </thead>\n",
       "  <tbody>\n",
       "    <tr>\n",
       "      <th>0</th>\n",
       "      <td>Jalsa</td>\n",
       "      <td>Yes</td>\n",
       "      <td>Yes</td>\n",
       "      <td>4.1</td>\n",
       "      <td>775</td>\n",
       "      <td>800</td>\n",
       "      <td>Buffet</td>\n",
       "    </tr>\n",
       "    <tr>\n",
       "      <th>1</th>\n",
       "      <td>Spice Elephant</td>\n",
       "      <td>Yes</td>\n",
       "      <td>No</td>\n",
       "      <td>4.1</td>\n",
       "      <td>787</td>\n",
       "      <td>800</td>\n",
       "      <td>Buffet</td>\n",
       "    </tr>\n",
       "    <tr>\n",
       "      <th>2</th>\n",
       "      <td>San Churro Cafe</td>\n",
       "      <td>Yes</td>\n",
       "      <td>No</td>\n",
       "      <td>3.8</td>\n",
       "      <td>918</td>\n",
       "      <td>800</td>\n",
       "      <td>Buffet</td>\n",
       "    </tr>\n",
       "    <tr>\n",
       "      <th>3</th>\n",
       "      <td>Addhuri Udupi Bhojana</td>\n",
       "      <td>No</td>\n",
       "      <td>No</td>\n",
       "      <td>3.7</td>\n",
       "      <td>88</td>\n",
       "      <td>300</td>\n",
       "      <td>Buffet</td>\n",
       "    </tr>\n",
       "    <tr>\n",
       "      <th>4</th>\n",
       "      <td>Grand Village</td>\n",
       "      <td>No</td>\n",
       "      <td>No</td>\n",
       "      <td>3.8</td>\n",
       "      <td>166</td>\n",
       "      <td>600</td>\n",
       "      <td>Buffet</td>\n",
       "    </tr>\n",
       "  </tbody>\n",
       "</table>\n",
       "</div>"
      ],
      "text/plain": [
       "                    name online_order book_table  rate  votes  \\\n",
       "0                  Jalsa          Yes        Yes   4.1    775   \n",
       "1         Spice Elephant          Yes         No   4.1    787   \n",
       "2        San Churro Cafe          Yes         No   3.8    918   \n",
       "3  Addhuri Udupi Bhojana           No         No   3.7     88   \n",
       "4          Grand Village           No         No   3.8    166   \n",
       "\n",
       "   approx_cost(for two people) listed_in(type)  \n",
       "0                          800          Buffet  \n",
       "1                          800          Buffet  \n",
       "2                          800          Buffet  \n",
       "3                          300          Buffet  \n",
       "4                          600          Buffet  "
      ]
     },
     "execution_count": 6,
     "metadata": {},
     "output_type": "execute_result"
    }
   ],
   "source": [
    " def handleRate(value):\n",
    "    value = str(value).split('/')\n",
    "    value = value[0];\n",
    "    return float(value)\n",
    "df['rate'] = df['rate'].apply(handleRate)\n",
    "df.head()"
   ]
  },
  {
   "cell_type": "markdown",
   "id": "e87cd2ac-61b0-4e8d-af3f-28dd9a2572e7",
   "metadata": {},
   "source": [
    "# summary of the data"
   ]
  },
  {
   "cell_type": "code",
   "execution_count": 5,
   "id": "79eb73ed-89a1-4fd7-bb46-31ac324d0319",
   "metadata": {},
   "outputs": [
    {
     "name": "stdout",
     "output_type": "stream",
     "text": [
      "<class 'pandas.core.frame.DataFrame'>\n",
      "RangeIndex: 148 entries, 0 to 147\n",
      "Data columns (total 7 columns):\n",
      " #   Column                       Non-Null Count  Dtype \n",
      "---  ------                       --------------  ----- \n",
      " 0   name                         148 non-null    object\n",
      " 1   online_order                 148 non-null    object\n",
      " 2   book_table                   148 non-null    object\n",
      " 3   rate                         148 non-null    object\n",
      " 4   votes                        148 non-null    int64 \n",
      " 5   approx_cost(for two people)  148 non-null    int64 \n",
      " 6   listed_in(type)              148 non-null    object\n",
      "dtypes: int64(2), object(5)\n",
      "memory usage: 8.2+ KB\n"
     ]
    }
   ],
   "source": [
    "df.info()"
   ]
  },
  {
   "cell_type": "markdown",
   "id": "e6ae3387-2848-4a65-a226-defce653cbae",
   "metadata": {},
   "source": [
    "# conclusion - there is no null value in dataframe."
   ]
  },
  {
   "cell_type": "markdown",
   "id": "0891454c-a826-498d-b3e3-641471808bc4",
   "metadata": {},
   "source": [
    "# Type of Resturant"
   ]
  },
  {
   "cell_type": "code",
   "execution_count": 9,
   "id": "8dcecab4-c8d1-4cf1-9e80-e9f408adb50a",
   "metadata": {},
   "outputs": [
    {
     "data": {
      "text/plain": [
       "Text(0.5, 0, 'type of resturent')"
      ]
     },
     "execution_count": 9,
     "metadata": {},
     "output_type": "execute_result"
    },
    {
     "data": {
      "image/png": "[encoded data removed]",
      "text/plain": [
       "<Figure size 640x480 with 1 Axes>"
      ]
     },
     "metadata": {},
     "output_type": "display_data"
    }
   ],
   "source": [
    "sns.countplot(x = df[\"listed_in(type)\"])\n",
    "plt.xlabel(\"type of resturent\")"
   ]
  },
  {
   "cell_type": "markdown",
   "id": "f12538bd-a446-4d60-8177-b9dbcd28f436",
   "metadata": {},
   "source": [
    "# Conclusion: The majority of the restaurantes fall into the dining category."
   ]
  },
  {
   "cell_type": "markdown",
   "id": "a46db439-f01b-4812-8d3f-bc95d3f03715",
   "metadata": {},
   "source": [
    "# Dining restaurants are preferred by a larege number of individuals."
   ]
  },
  {
   "cell_type": "code",
   "execution_count": 19,
   "id": "884de726-fc04-4f61-9189-fb107f4fd72e",
   "metadata": {},
   "outputs": [
    {
     "data": {
      "text/plain": [
       "Text(0, 0.5, 'votes')"
      ]
     },
     "execution_count": 19,
     "metadata": {},
     "output_type": "execute_result"
    },
    {
     "data": {
      "image/png": "[encoded data removed]",
      "text/plain": [
       "<Figure size 640x480 with 1 Axes>"
      ]
     },
     "metadata": {},
     "output_type": "display_data"
    }
   ],
   "source": [
    "grouped_data = df.groupby('listed_in(type)')['votes'].sum()\n",
    "result = pd.DataFrame({'votes': grouped_data})\n",
    "plt.plot(result, c=\"green\", marker=\"o\")\n",
    "plt.xlabel(\"type of restaurant \", c=\"blue\", size=30)\n",
    "plt.ylabel(\"votes\", c =\"blue\", size=30)"
   ]
  },
  {
   "cell_type": "markdown",
   "id": "82676ce1-0a33-4f93-8266-8e69455229f8",
   "metadata": {},
   "source": [
    "# Conclusion: dinning resturants has recieved maximum votes"
   ]
  },
  {
   "cell_type": "code",
   "execution_count": 21,
   "id": "fd6fd57f-fa72-4c18-a3d3-07e0de5b47ec",
   "metadata": {},
   "outputs": [
    {
     "data": {
      "image/png": "[encoded data removed]",
      "text/plain": [
       "<Figure size 640x480 with 1 Axes>"
      ]
     },
     "metadata": {},
     "output_type": "display_data"
    }
   ],
   "source": [
    "plt.hist(df['rate'],bins= 10)\n",
    "plt.title(\"ratings distribution\")\n",
    "plt.show()"
   ]
  },
  {
   "cell_type": "markdown",
   "id": "63e3c688-cc1c-4004-a38f-525a3c78c00d",
   "metadata": {},
   "source": [
    "# conclusion: the majority resturants received ratings from 3.5 to 4"
   ]
  },
  {
   "cell_type": "markdown",
   "id": "f51bc9ae-e735-4970-bb8e-80bbf13d67db",
   "metadata": {},
   "source": [
    "# Average order spending by couples"
   ]
  },
  {
   "cell_type": "markdown",
   "id": "1a732b04-e71d-4af2-9bf1-82a923d3f6b6",
   "metadata": {},
   "source": [
    "couple_data = df[\"approx_cost(for two people)\"]\n",
    "sns.countplot(x=couple_data)"
   ]
  },
  {
   "cell_type": "markdown",
   "id": "d6ef170b-f99c-4d32-ab07-3f9c41aeb896",
   "metadata": {},
   "source": [
    " # conclusion : the majority of couple preferr resturants with an approximate cost of 300 rupees"
   ]
  },
  {
   "cell_type": "markdown",
   "id": "98d8ed60-7b00-4f27-8e8b-efb7dbc373e5",
   "metadata": {},
   "source": [
    "# which mode receives maximum rating"
   ]
  },
  {
   "cell_type": "code",
   "execution_count": 23,
   "id": "e9156ac8-6f71-49b1-983b-bd4162fd170d",
   "metadata": {},
   "outputs": [
    {
     "data": {
      "text/plain": [
       "<Axes: xlabel='online_order', ylabel='rate'>"
      ]
     },
     "execution_count": 23,
     "metadata": {},
     "output_type": "execute_result"
    },
    {
     "data": {
      "image/png": "[encoded data removed]",
      "text/plain": [
       "<Figure size 600x600 with 1 Axes>"
      ]
     },
     "metadata": {},
     "output_type": "display_data"
    }
   ],
   "source": [
    "plt.figure(figsize = (6,6))\n",
    "sns.boxplot(x = \"online_order\", y = \"rate\", data = df)"
   ]
  },
  {
   "cell_type": "markdown",
   "id": "ac9c1ba7-a85e-4895-a4f9-b938c15caff7",
   "metadata": {},
   "source": [
    "# Conclusion : offline order received lower rating in comparision to online order, which obtained excellent ratings."
   ]
  },
  {
   "cell_type": "code",
   "execution_count": 24,
   "id": "70d0ff3d-b421-47b1-ad2c-8e22c43572c6",
   "metadata": {},
   "outputs": [
    {
     "data": {
      "text/html": [
       "<div>\n",
       "<style scoped>\n",
       "    .dataframe tbody tr th:only-of-type {\n",
       "        vertical-align: middle;\n",
       "    }\n",
       "\n",
       "    .dataframe tbody tr th {\n",
       "        vertical-align: top;\n",
       "    }\n",
       "\n",
       "    .dataframe thead th {\n",
       "        text-align: right;\n",
       "    }\n",
       "</style>\n",
       "<table border=\"1\" class=\"dataframe\">\n",
       "  <thead>\n",
       "    <tr style=\"text-align: right;\">\n",
       "      <th></th>\n",
       "      <th>name</th>\n",
       "      <th>online_order</th>\n",
       "      <th>book_table</th>\n",
       "      <th>rate</th>\n",
       "      <th>votes</th>\n",
       "      <th>approx_cost(for two people)</th>\n",
       "      <th>listed_in(type)</th>\n",
       "    </tr>\n",
       "  </thead>\n",
       "  <tbody>\n",
       "    <tr>\n",
       "      <th>0</th>\n",
       "      <td>Jalsa</td>\n",
       "      <td>Yes</td>\n",
       "      <td>Yes</td>\n",
       "      <td>4.1</td>\n",
       "      <td>775</td>\n",
       "      <td>800</td>\n",
       "      <td>Buffet</td>\n",
       "    </tr>\n",
       "    <tr>\n",
       "      <th>1</th>\n",
       "      <td>Spice Elephant</td>\n",
       "      <td>Yes</td>\n",
       "      <td>No</td>\n",
       "      <td>4.1</td>\n",
       "      <td>787</td>\n",
       "      <td>800</td>\n",
       "      <td>Buffet</td>\n",
       "    </tr>\n",
       "    <tr>\n",
       "      <th>2</th>\n",
       "      <td>San Churro Cafe</td>\n",
       "      <td>Yes</td>\n",
       "      <td>No</td>\n",
       "      <td>3.8</td>\n",
       "      <td>918</td>\n",
       "      <td>800</td>\n",
       "      <td>Buffet</td>\n",
       "    </tr>\n",
       "    <tr>\n",
       "      <th>3</th>\n",
       "      <td>Addhuri Udupi Bhojana</td>\n",
       "      <td>No</td>\n",
       "      <td>No</td>\n",
       "      <td>3.7</td>\n",
       "      <td>88</td>\n",
       "      <td>300</td>\n",
       "      <td>Buffet</td>\n",
       "    </tr>\n",
       "    <tr>\n",
       "      <th>4</th>\n",
       "      <td>Grand Village</td>\n",
       "      <td>No</td>\n",
       "      <td>No</td>\n",
       "      <td>3.8</td>\n",
       "      <td>166</td>\n",
       "      <td>600</td>\n",
       "      <td>Buffet</td>\n",
       "    </tr>\n",
       "  </tbody>\n",
       "</table>\n",
       "</div>"
      ],
      "text/plain": [
       "                    name online_order book_table  rate  votes  \\\n",
       "0                  Jalsa          Yes        Yes   4.1    775   \n",
       "1         Spice Elephant          Yes         No   4.1    787   \n",
       "2        San Churro Cafe          Yes         No   3.8    918   \n",
       "3  Addhuri Udupi Bhojana           No         No   3.7     88   \n",
       "4          Grand Village           No         No   3.8    166   \n",
       "\n",
       "   approx_cost(for two people) listed_in(type)  \n",
       "0                          800          Buffet  \n",
       "1                          800          Buffet  \n",
       "2                          800          Buffet  \n",
       "3                          300          Buffet  \n",
       "4                          600          Buffet  "
      ]
     },
     "execution_count": 24,
     "metadata": {},
     "output_type": "execute_result"
    }
   ],
   "source": [
    "df.head()"
   ]
  },
  {
   "cell_type": "code",
   "execution_count": 32,
   "id": "b1dd1c1b-36cb-4bdf-93ad-722292e6df96",
   "metadata": {},
   "outputs": [
    {
     "data": {
      "image/png": "[encoded data removed]",
      "text/plain": [
       "<Figure size 640x480 with 2 Axes>"
      ]
     },
     "metadata": {},
     "output_type": "display_data"
    }
   ],
   "source": [
    "pivot_table = df.pivot_table(index='listed_in(type)', columns='online_order', aggfunc='size', fill_value=0)\n",
    "sns.heatmap(pivot_table, annot=True, cmap=\"YlGnBu\", fmt='d')\n",
    "plt.title(\"Heatmap\")\n",
    "plt.xlabel(\"Online Order\")\n",
    "plt.ylabel(\"Listed in (Type)\")\n",
    "plt.show()"
   ]
  },
  {
   "cell_type": "code",
   "execution_count": null,
   "id": "7063c28b-14a8-4401-8958-a010fb80b8f4",
   "metadata": {},
   "outputs": [],
   "source": []
  }
 ],
 "metadata": {
  "kernelspec": {
   "display_name": "Python 3 (ipykernel)",
   "language": "python",
   "name": "python3"
  },
  "language_info": {
   "codemirror_mode": {
    "name": "ipython",
    "version": 3
   },
   "file_extension": ".py",
   "mimetype": "text/x-python",
   "name": "python",
   "nbconvert_exporter": "python",
   "pygments_lexer": "ipython3",
   "version": "3.12.2"
  }
 },
 "nbformat": 4,
 "nbformat_minor": 5
}
